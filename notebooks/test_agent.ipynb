{
 "cells": [
  {
   "cell_type": "code",
   "execution_count": 1,
   "id": "ed42865f",
   "metadata": {},
   "outputs": [],
   "source": [
    "import sys\n",
    "\n",
    "sys.path.append(\"..\")"
   ]
  },
  {
   "cell_type": "code",
   "execution_count": 2,
   "id": "8a0a1210",
   "metadata": {},
   "outputs": [],
   "source": [
    "import os\n",
    "from src.api.deps import get_agent\n",
    "from src import ENV\n",
    "from langchain_chroma import Chroma\n",
    "from langchain_openai import OpenAIEmbeddings\n",
    "from langchain_core.chat_history import InMemoryChatMessageHistory\n",
    "from IPython.display import display, Markdown\n",
    "from langchain_core.messages import AIMessage, HumanMessage\n"
   ]
  },
  {
   "cell_type": "code",
   "execution_count": 3,
   "id": "1e2e5308",
   "metadata": {},
   "outputs": [],
   "source": [
    "agent = get_agent()  # type: ignore"
   ]
  },
  {
   "cell_type": "code",
   "execution_count": 4,
   "id": "72f90714",
   "metadata": {},
   "outputs": [],
   "source": [
    "history = []\n",
    "query = \"\"\n",
    "result = \"\""
   ]
  },
  {
   "cell_type": "code",
   "execution_count": 6,
   "id": "51be3c0b",
   "metadata": {},
   "outputs": [
    {
     "data": {
      "text/markdown": [
       "El plan de gobierno de Jorge \"Tuto\" Quiroga, candidato del partido **Alianza Libertad y Democracia (Libre)**, se basa en siete pilares fundamentales para abordar los desafíos del país. A continuación, se presenta un resumen detallado de sus principales propuestas:\n",
       "\n",
       "1. **Salvar la economía**:  \n",
       "   - Reinstaurar un sistema de tipo de cambio único, real y flexible, similar al implementado en los años 80, con independencia del banco central y apoyo internacional para estabilizar reservas.  \n",
       "   - Reducir el déficit fiscal del 10% al 3% del PIB mediante recortes en instituciones, reestructuración de empresas públicas, focalización de subsidios y lucha contra la corrupción.  \n",
       "   - Conseguir dólares de libre disponibilidad, principalmente del FMI y FLAR, para enfrentar la falta de reservas y garantizar el pago de deudas y servicios básicos.  \n",
       "   - Crear un \"hospital de empresas\" para evitar quiebras y apoyar a negocios en dificultades, además de fortalecer el sistema financiero y priorizar las exportaciones.  \n",
       "   - Reconvertir al país tras la crisis generada por el MAS, enfrentando balanza de pagos deficitaria, déficit fiscal elevado y crisis energética por baja producción de gas.\n",
       "\n",
       "2. **Reactivar la producción y fortalecer el sistema financiero**:  \n",
       "   - Impulsar exportaciones con neutralidad impositiva y atraer créditos y capitales por unos US$12 mil millones.  \n",
       "   - Reestructurar aduanas, reducir contrabando y apoyar a las empresas para evitar quiebras y mantener empleos.\n",
       "\n",
       "3. **Política social y educación**:  \n",
       "   - Mejorar la calidad educativa, enfocándose en matemáticas y lenguaje, con pruebas internacionales (PISA, LLECE) y una currícula regional.  \n",
       "   - Crear un sistema nacional de empleo juvenil para gestionar capacitaciones y facilitar la inserción laboral de los jóvenes.  \n",
       "   - Fortalecer la educación técnica desde 10º año y promover la capacitación jurídica y atención a personas con discapacidad.  \n",
       "   - Implementar programas de protección social para desempleados y fortalecer la autonomía familiar mediante centros de capacitación y orientación en derechos.\n",
       "\n",
       "4. **Gestión pública eficiente y transparente**:  \n",
       "   - Institucionalizar la gestión por resultados, con metas claras, seguimiento y rendición de cuentas.  \n",
       "   - Crear un observatorio de finanzas públicas y fortalecer el Instituto Nacional de Estadística (INE) para garantizar información confiable.  \n",
       "   - Mejorar la administración tributaria y promover la transparencia en compras públicas.\n",
       "\n",
       "5. **Autonomía, democracia, justicia y seguridad**:  \n",
       "   - Promover la descentralización en salud, educación y seguridad, permitiendo a los gobiernos regionales aprobar presupuestos responsables.  \n",
       "   - Fortalecer la justicia para combatir la violencia, con atención especializada a mujeres, niños y adolescentes, incluyendo penas severas como cadena perpetua para feminicidas.  \n",
       "   - Trabajar con las familias para fortalecer la autonomía familiar y crear un sistema nacional de empleo juvenil.\n",
       "\n",
       "6. **Política social y protección a la niñez y la adolescencia**:  \n",
       "   - Fortalecer la justicia para atender casos de violencia y promover programas de capacitación y atención especializada.  \n",
       "   - Combatir la violencia contra mujeres, niños y adolescentes mediante centros de atención y sanciones severas.\n",
       "\n",
       "7. **Reinserción internacional y responsabilidad social**:  \n",
       "   - Proponer un gobierno responsable, con visión a largo plazo, que priorice el bienestar del país por encima de intereses políticos inmediatos.  \n",
       "   - Promover la participación activa en la comunidad internacional y fortalecer la imagen del país.\n",
       "\n",
       "Este plan busca construir una Bolivia diferente, con progreso, justicia, seguridad y libertad, alejándose de la corrupción y el autoritarismo de los últimos años.\n",
       "\n",
       "Puedes encontrar más información en el siguiente enlace: [programas de gobierno](https://www.chequeatuvoto.chequeabolivia.bo/#parties)."
      ],
      "text/plain": [
       "<IPython.core.display.Markdown object>"
      ]
     },
     "metadata": {},
     "output_type": "display_data"
    }
   ],
   "source": [
    "if query and result:\n",
    "    history.extend([HumanMessage(query), AIMessage(result)])\n",
    "query = \"cual es su plan de gobierno, cuentame con detalle\"\n",
    "result = \"\"\n",
    "async for token in agent.stream(query, history):\n",
    "    result += token\n",
    "    display(Markdown(result), clear=True)\n",
    "# display(Markdown(result), clear=False)"
   ]
  },
  {
   "cell_type": "code",
   "execution_count": 1,
   "id": "6b905a9a",
   "metadata": {},
   "outputs": [],
   "source": [
    "%rm -rf chroma_db\n",
    "%cp -r ../chroma_db .\n"
   ]
  }
 ],
 "metadata": {
  "kernelspec": {
   "display_name": ".venv",
   "language": "python",
   "name": "python3"
  },
  "language_info": {
   "codemirror_mode": {
    "name": "ipython",
    "version": 3
   },
   "file_extension": ".py",
   "mimetype": "text/x-python",
   "name": "python",
   "nbconvert_exporter": "python",
   "pygments_lexer": "ipython3",
   "version": "3.12.10"
  }
 },
 "nbformat": 4,
 "nbformat_minor": 5
}
