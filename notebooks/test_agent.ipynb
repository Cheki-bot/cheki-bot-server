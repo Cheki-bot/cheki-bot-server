{
 "cells": [
  {
   "cell_type": "code",
   "execution_count": 2,
   "id": "ed42865f",
   "metadata": {},
   "outputs": [],
   "source": [
    "import sys\n",
    "\n",
    "sys.path.append(\"..\")"
   ]
  },
  {
   "cell_type": "code",
   "execution_count": 3,
   "id": "8a0a1210",
   "metadata": {},
   "outputs": [],
   "source": [
    "import os\n",
    "from src.api.deps import get_agent\n",
    "from src import ENV\n",
    "from langchain_chroma import Chroma\n",
    "from langchain_openai import OpenAIEmbeddings\n",
    "from langchain_core.chat_history import InMemoryChatMessageHistory\n",
    "from IPython.display import display, Markdown\n",
    "from langchain_core.messages import AIMessage, HumanMessage\n"
   ]
  },
  {
   "cell_type": "code",
   "execution_count": 4,
   "id": "1e2e5308",
   "metadata": {},
   "outputs": [],
   "source": [
    "agent = get_agent()  # type: ignore"
   ]
  },
  {
   "cell_type": "code",
   "execution_count": 5,
   "id": "72f90714",
   "metadata": {},
   "outputs": [],
   "source": [
    "history = []\n",
    "query = \"\"\n",
    "result = \"\""
   ]
  },
  {
   "cell_type": "code",
   "execution_count": 7,
   "id": "51be3c0b",
   "metadata": {},
   "outputs": [
    {
     "data": {
      "text/markdown": [
       "<content>\n",
       "El plan de gobierno de Manfred Reyes Villa, candidato por SUMATE, se centra en varios aspectos clave:\n",
       "\n",
       "- **Relación con el Legislativo:** Promueve la superación del \"rodillo parlamentario\" mediante acuerdos políticos y la operación bajo bloques de mayoría en ambas cámaras para garantizar gobernabilidad y fortalecer la institucionalidad del Parlamento.\n",
       "\n",
       "- **Reinstitucionalización del Estado:** Busca la plena reinstitucionalización de las entidades públicas, asegurando su funcionamiento autónomo y la vigencia efectiva de sus normativas, para garantizar credibilidad y capacidad de servicio público.\n",
       "\n",
       "- **Participación Ciudadana y Gobierno Abierto:** Promoverá una nueva arquitectura institucional de participación ciudadana, con una plataforma \"YoGobierno\" que facilite propuestas, consultas, denuncias y fiscalización ciudadana, además de introducir identificaciones digitales con QR.\n",
       "\n",
       "- **Seguridad y Orden Público:** Implementará una política integral de seguridad que aborde problemas como narcotráfico, trata de personas, violencia de género, delitos cibernéticos y vulnerabilidad en fronteras. Fortalecerá las guardias autonómicas y la normativa contra atentados a la propiedad privada.\n",
       "\n",
       "- **Seguridad Jurídica y Estado de Derecho:** Promueve la consolidación de guardias autonómicas, fortalecimiento de la normativa contra delitos y la institucionalidad en todos los niveles de gobierno para aplicar la ley y mantener el orden.\n",
       "\n",
       "- **Autonomías y Seguridad Jurídica Territorial:** Impulsará la consolidación de Cartas Orgánicas y Estatutos Departamentales, creación de regiones metropolitanas, delimitación de unidades territoriales y metropolitanización de empresas públicas para optimizar la gestión territorial y servicios básicos.\n",
       "\n",
       "- **Desarrollo Económico y Social:** Incentivará la migración interna con acceso a vivienda, empleo y servicios básicos, además de crear polos agroindustriales, tecnológicos y logísticos con incentivos fiscales para atraer inversión y reforzar la soberanía territorial.\n",
       "\n",
       "- **Seguridad y Paz:** Restablecerá el Estado de Derecho, fortalecerá el orden y promoverá una política integral de seguridad para garantizar el bienestar y la convivencia pacífica en el país.\n",
       "\n",
       "Este plan busca fortalecer la institucionalidad, la seguridad y la participación ciudadana, promoviendo un desarrollo territorial y económico sostenible.\n",
       "</content>"
      ],
      "text/plain": [
       "<IPython.core.display.Markdown object>"
      ]
     },
     "metadata": {},
     "output_type": "display_data"
    }
   ],
   "source": [
    "if query and result:\n",
    "    history.extend([HumanMessage(query), AIMessage(result)])\n",
    "query = \"quiero el plan de gobierno de manfred reyes villa\"\n",
    "result = \"\"\n",
    "async for token in agent.stream(query, history):\n",
    "    result += token\n",
    "    display(Markdown(result), clear=True)\n",
    "# display(Markdown(result), clear=False)"
   ]
  },
  {
   "cell_type": "code",
   "execution_count": 6,
   "id": "ba3fd66e",
   "metadata": {},
   "outputs": [
    {
     "data": {
      "text/plain": [
       "'Aquí tienes un resumen de los planes de gobierno de cada candidato:\\n\\n- **Jhonny Fernandez (FP - La Fuerza del Pueblo):** Su plan se basa en 5 pilares fundamentales: estabilidad y desarrollo económico, energías y recursos naturales sostenibles, salud, educación y reforma constitucional con un modelo de Estado federal.\\n\\n- **Samuel Doria Medina (UN – CREEMOS):** Propone un control digital de expedientes laborales, uso responsable de recursos naturales, especialmente del litio, y un enfoque en la igualdad social y la transformación en educación y salud mediante programas específicos y metas claras.\\n\\n- **Jorge \"Tuto\" Quiroga (LIBRE):** Su plan incluye fortalecer la gobernanza democrática, reducir el tamaño del Estado, mejorar la transparencia, impulsar oportunidades laborales, infraestructura y desarrollo económico, además de promover la participación ciudadana y la protección del medio ambiente.\\n\\n- **Andrónico Rodriguez (AP):** Su propuesta se centra en una renovación con memoria histórica, fortaleciendo la unidad, con énfasis en la continuidad y la innovación, y en la participación activa del pueblo en la gestión pública.\\n\\n- **Pavel Aracena (ADN):** Enfocado en reformas electorales, fortalecimiento del sistema judicial, transparencia, y en reducir la polarización política mediante mecanismos de participación y control ciudadano.\\n\\n- **Eva Copa (MORENA):** Promueve la reducción de salarios en cargos públicos, digitalización del Estado, fortalecimiento de la justicia y la seguridad, y acciones para mejorar la cohesión social y la economía.\\n\\nCada plan refleja las prioridades y enfoques de los diferentes candidatos para las elecciones del 17 de agosto de 2025.'"
      ]
     },
     "execution_count": 6,
     "metadata": {},
     "output_type": "execute_result"
    }
   ],
   "source": [
    "result"
   ]
  },
  {
   "cell_type": "code",
   "execution_count": null,
   "id": "6b905a9a",
   "metadata": {},
   "outputs": [],
   "source": [
    "%rm -rf chroma_db\n",
    "%cp -r ../chroma_db .\n"
   ]
  }
 ],
 "metadata": {
  "kernelspec": {
   "display_name": ".venv",
   "language": "python",
   "name": "python3"
  },
  "language_info": {
   "codemirror_mode": {
    "name": "ipython",
    "version": 3
   },
   "file_extension": ".py",
   "mimetype": "text/x-python",
   "name": "python",
   "nbconvert_exporter": "python",
   "pygments_lexer": "ipython3",
   "version": "3.12.10"
  }
 },
 "nbformat": 4,
 "nbformat_minor": 5
}
