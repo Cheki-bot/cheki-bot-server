{
 "cells": [
  {
   "cell_type": "code",
   "execution_count": 1,
   "id": "ed42865f",
   "metadata": {},
   "outputs": [],
   "source": [
    "import sys\n",
    "\n",
    "sys.path.append(\"..\")"
   ]
  },
  {
   "cell_type": "code",
   "execution_count": 2,
   "id": "8a0a1210",
   "metadata": {},
   "outputs": [],
   "source": [
    "import os\n",
    "from src.api.deps import get_agent\n",
    "from src import ENV\n",
    "from langchain_chroma import Chroma\n",
    "from langchain_openai import OpenAIEmbeddings\n",
    "from langchain_core.chat_history import InMemoryChatMessageHistory\n",
    "from IPython.display import display, Markdown\n",
    "from langchain_core.messages import AIMessage, HumanMessage\n"
   ]
  },
  {
   "cell_type": "code",
   "execution_count": 3,
   "id": "1e2e5308",
   "metadata": {},
   "outputs": [],
   "source": [
    "agent = get_agent()  # type: ignore"
   ]
  },
  {
   "cell_type": "code",
   "execution_count": 9,
   "id": "72f90714",
   "metadata": {},
   "outputs": [],
   "source": [
    "history = []\n",
    "query = \"\"\n",
    "result = \"\""
   ]
  },
  {
   "cell_type": "code",
   "execution_count": 10,
   "id": "51be3c0b",
   "metadata": {},
   "outputs": [
    {
     "data": {
      "text/markdown": [
       "Lo siento, pero solo puedo ayudarte con información relacionada con las elecciones del 2025. ¿Hay alguna consulta electoral que pueda resolver para ti?"
      ],
      "text/plain": [
       "<IPython.core.display.Markdown object>"
      ]
     },
     "metadata": {},
     "output_type": "display_data"
    }
   ],
   "source": [
    "if query and result:\n",
    "    history.extend([HumanMessage(query), AIMessage(result)])\n",
    "query = \"Cual es la raiz cuadrada de 4850\"\n",
    "result = await agent.invoke(query, history)  # type: ignore\n",
    "# async for token in agent.stream(query, history):\n",
    "#     result += token\n",
    "display(Markdown(result), clear=True)\n"
   ]
  },
  {
   "cell_type": "code",
   "execution_count": 1,
   "id": "6b905a9a",
   "metadata": {},
   "outputs": [],
   "source": [
    "%rm -rf chroma_db\n",
    "%cp -r ../chroma_db .\n"
   ]
  }
 ],
 "metadata": {
  "kernelspec": {
   "display_name": ".venv",
   "language": "python",
   "name": "python3"
  },
  "language_info": {
   "codemirror_mode": {
    "name": "ipython",
    "version": 3
   },
   "file_extension": ".py",
   "mimetype": "text/x-python",
   "name": "python",
   "nbconvert_exporter": "python",
   "pygments_lexer": "ipython3",
   "version": "3.12.10"
  }
 },
 "nbformat": 4,
 "nbformat_minor": 5
}
