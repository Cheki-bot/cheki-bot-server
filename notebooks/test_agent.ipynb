{
 "cells": [
  {
   "cell_type": "code",
   "execution_count": 1,
   "id": "ed42865f",
   "metadata": {},
   "outputs": [],
   "source": [
    "import sys\n",
    "\n",
    "sys.path.append(\"..\")"
   ]
  },
  {
   "cell_type": "code",
   "execution_count": 2,
   "id": "8a0a1210",
   "metadata": {},
   "outputs": [],
   "source": [
    "import os\n",
    "from src.api.deps import get_agent\n",
    "from src import ENV\n",
    "from langchain_chroma import Chroma\n",
    "from langchain_openai import OpenAIEmbeddings\n",
    "from langchain_core.chat_history import InMemoryChatMessageHistory\n",
    "from IPython.display import display, Markdown\n",
    "from langchain_core.messages import AIMessage, HumanMessage\n"
   ]
  },
  {
   "cell_type": "code",
   "execution_count": 3,
   "id": "1e2e5308",
   "metadata": {},
   "outputs": [],
   "source": [
    "agent = get_agent()  # type: ignore"
   ]
  },
  {
   "cell_type": "code",
   "execution_count": 4,
   "id": "72f90714",
   "metadata": {},
   "outputs": [],
   "source": [
    "history = []\n",
    "query = \"\"\n",
    "result = \"\""
   ]
  },
  {
   "cell_type": "code",
   "execution_count": 10,
   "id": "51be3c0b",
   "metadata": {},
   "outputs": [
    {
     "name": "stdout",
     "output_type": "stream",
     "text": [
      "type questions_and_answers\n",
      "Question: ¿qué es el certificado de sufragio?\n",
      "Answer: Es el documento público que certifica la participación de las personas en el acto electoral. Es la constancia de que la ciudadana o ciudadano votó. El certificado de sufragio, que se entrega a toda persona que ha votado, será válido siempre y cuando tenga la firma y huella dactilar de la presidenta o presidente de la mesa de sufragio.\n",
      "\n"
     ]
    },
    {
     "data": {
      "text/markdown": [
       "El sufragio es el derecho que tienen las ciudadanas y ciudadanos de votar en las elecciones para elegir a sus autoridades. Es una participación cívica que permite expresar la voluntad popular en los procesos electorales. El sufragio, que se entrega mediante el acto de votar, es un derecho fundamental en una democracia y garantiza que la ciudadanía participe en la toma de decisiones políticas del país."
      ],
      "text/plain": [
       "<IPython.core.display.Markdown object>"
      ]
     },
     "metadata": {},
     "output_type": "display_data"
    }
   ],
   "source": [
    "if query and result:\n",
    "    history.extend([HumanMessage(query), AIMessage(result)])\n",
    "query = \"que es el sufragio?\"\n",
    "result = \"\"\n",
    "async for token in agent.stream(query, history):\n",
    "    result += token\n",
    "    # display(Markdown(result), clear=True)\n",
    "display(Markdown(result), clear=False)"
   ]
  },
  {
   "cell_type": "code",
   "execution_count": 14,
   "id": "6b905a9a",
   "metadata": {},
   "outputs": [],
   "source": [
    "%rm -rf chroma_db\n",
    "%cp -r ../chroma_db .\n"
   ]
  }
 ],
 "metadata": {
  "kernelspec": {
   "display_name": ".venv",
   "language": "python",
   "name": "python3"
  },
  "language_info": {
   "codemirror_mode": {
    "name": "ipython",
    "version": 3
   },
   "file_extension": ".py",
   "mimetype": "text/x-python",
   "name": "python",
   "nbconvert_exporter": "python",
   "pygments_lexer": "ipython3",
   "version": "3.12.10"
  }
 },
 "nbformat": 4,
 "nbformat_minor": 5
}
