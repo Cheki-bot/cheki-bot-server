{
 "cells": [
  {
   "cell_type": "code",
   "execution_count": 1,
   "id": "ed42865f",
   "metadata": {},
   "outputs": [],
   "source": [
    "import sys\n",
    "sys.path.append('..')"
   ]
  },
  {
   "cell_type": "code",
   "execution_count": 2,
   "id": "8a0a1210",
   "metadata": {},
   "outputs": [],
   "source": [
    "import os\n",
    "from src.api.deps import get_agent\n",
    "from src import ENV\n",
    "from langchain_chroma import Chroma\n",
    "from langchain_openai import OpenAIEmbeddings\n",
    "from langchain_core.chat_history import InMemoryChatMessageHistory\n",
    "from IPython.display import display, Markdown"
   ]
  },
  {
   "cell_type": "code",
   "execution_count": null,
   "id": "21969de2",
   "metadata": {},
   "outputs": [],
   "source": [
    "%rm -rf chroma_db\n",
    "%cp -r ../chroma_db .\n"
   ]
  },
  {
   "cell_type": "code",
   "execution_count": 3,
   "id": "1e2e5308",
   "metadata": {},
   "outputs": [],
   "source": [
    "agent = get_agent() # type: ignore"
   ]
  },
  {
   "cell_type": "code",
   "execution_count": 5,
   "id": "72f90714",
   "metadata": {},
   "outputs": [
    {
     "data": {
      "text/markdown": [
       "ChequeaBolivia verificó que es falso que Manfred Reyes Villa haya enviado un mensaje en coreano a la población de Corea del Sur. No existen registros oficiales ni publicaciones que respalden esa afirmación. Además, se detectó que un video que circula en redes sociales fue editado y manipulado, y no corresponde a un mensaje real de Reyes Villa en ese idioma."
      ],
      "text/plain": [
       "<IPython.core.display.Markdown object>"
      ]
     },
     "metadata": {},
     "output_type": "display_data"
    }
   ],
   "source": [
    "history = InMemoryChatMessageHistory()\n",
    "query = \"Escuché noticias sobre Mamfred, dicen que envió un mensaje en coreano a corea del sur\"\n",
    "\n",
    "result = \"\"\n",
    "async for token in agent.stream(query, history):\n",
    "    result += token\n",
    "    display(Markdown(result), clear=True)\n"
   ]
  },
  {
   "cell_type": "code",
   "execution_count": null,
   "id": "ae58d28c",
   "metadata": {},
   "outputs": [],
   "source": []
  }
 ],
 "metadata": {
  "kernelspec": {
   "display_name": ".venv",
   "language": "python",
   "name": "python3"
  },
  "language_info": {
   "codemirror_mode": {
    "name": "ipython",
    "version": 3
   },
   "file_extension": ".py",
   "mimetype": "text/x-python",
   "name": "python",
   "nbconvert_exporter": "python",
   "pygments_lexer": "ipython3",
   "version": "3.12.10"
  }
 },
 "nbformat": 4,
 "nbformat_minor": 5
}
