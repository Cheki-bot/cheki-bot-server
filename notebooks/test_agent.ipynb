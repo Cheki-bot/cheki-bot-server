{
 "cells": [
  {
   "cell_type": "code",
   "execution_count": 3,
   "id": "21969de2",
   "metadata": {},
   "outputs": [],
   "source": [
    "%rm -rf chroma_db\n",
    "%cp -r ../chroma_db .\n"
   ]
  },
  {
   "cell_type": "code",
   "execution_count": 1,
   "id": "ed42865f",
   "metadata": {},
   "outputs": [],
   "source": [
    "import sys\n",
    "sys.path.append('..')"
   ]
  },
  {
   "cell_type": "code",
   "execution_count": 2,
   "id": "8a0a1210",
   "metadata": {},
   "outputs": [],
   "source": [
    "import os\n",
    "from src.api.deps import get_agent\n",
    "from src import ENV\n",
    "from langchain_chroma import Chroma\n",
    "from langchain_openai import OpenAIEmbeddings\n",
    "from langchain_core.chat_history import InMemoryChatMessageHistory\n",
    "from IPython.display import display, Markdown\n",
    "from langchain_core.messages import AIMessage, HumanMessage\n"
   ]
  },
  {
   "cell_type": "code",
   "execution_count": 3,
   "id": "1e2e5308",
   "metadata": {},
   "outputs": [],
   "source": [
    "agent = get_agent() # type: ignore"
   ]
  },
  {
   "cell_type": "code",
   "execution_count": 4,
   "id": "72f90714",
   "metadata": {},
   "outputs": [],
   "source": [
    "history = InMemoryChatMessageHistory()\n",
    "query = \"\"\n",
    "result = \"\""
   ]
  },
  {
   "cell_type": "code",
   "execution_count": 5,
   "id": "51be3c0b",
   "metadata": {},
   "outputs": [
    {
     "data": {
      "text/markdown": [
       "No, no es cierto que Manfred Reyes Villa haya anunciado que declinará su candidatura. ChequeaBolivia comprobó que un video difundido en TikTok que aseguraba esto es falso. No hay declaraciones ni comunicados oficiales que confirmen su declinación. Puedes consultar más detalles en [este enlace](https://chequeabolivia.bo/es-falso-que-manfred-reyes-villa-anuncio-que-declinara-su-candidatura). \n",
       "\n",
       "¿Te gustaría saber más sobre las elecciones generales 2025 o sobre los candidatos?"
      ],
      "text/plain": [
       "<IPython.core.display.Markdown object>"
      ]
     },
     "metadata": {},
     "output_type": "display_data"
    }
   ],
   "source": [
    "if query and result:\n",
    "    history.add_messages([HumanMessage(query), AIMessage(result)])\n",
    "query = \"hola, quiero saber si es cierto que mamfred dejará de ser candidato.\"\n",
    "result = \"\"\n",
    "async for token in agent.stream(query, history):\n",
    "    result += token\n",
    "    display(Markdown(result), clear=True)\n"
   ]
  },
  {
   "cell_type": "code",
   "execution_count": 10,
   "id": "6b905a9a",
   "metadata": {},
   "outputs": [
    {
     "data": {
      "text/plain": [
       "[HumanMessage(content='si', additional_kwargs={}, response_metadata={}),\n",
       " AIMessage(content='¿En qué tema específico de tu interés te gustaría obtener información verificada? Puedes consultar sobre candidatos, elecciones, noticias falsas, o temas relacionados con la política en Bolivia.', additional_kwargs={}, response_metadata={}),\n",
       " HumanMessage(content='muestrame el indice de verificaciones', additional_kwargs={}, response_metadata={}),\n",
       " AIMessage(content='Aquí tienes el índice de verificaciones disponibles en mi base de conocimiento:\\n\\n1. Es falso que Manfred Reyes Villa anunció que declinará su candidatura  \\n2. Samuel Doria Medina no dijo que manejar negocios no es “cosa de mujeres”  \\n3. Manfred no dijo que Doria Medina tiene relación con dinero del narcotráfico, pero sí cuestionó su acceso anticipado a encuestas  \\n4. Circula convocatoria laboral falsa con los sellos del SEGIP en TikTok  \\n5. Juan Ramón Quintana junto a García Meza, Torrelio y Natusch Busch  \\n6. Audio atribuido a Jorge “Tuto” Quiroga sobre bonos y rentas fue generado con Inteligencia Artificial  \\n7. Es falso que el padrón electoral tenga un millón de votantes más que los datos del Censo 2024  \\n8. Carlos Mesa sostiene la bandera boliviana al revés  \\n9. Circula convocatoria laboral falsa con los sellos del SEGIP en TikTok (repetido)  \\n10. Es falso que Evo Morales está habilitado para las elecciones generales 2025\\n\\n¿Te gustaría que te proporcione información sobre algún tema en particular de esta lista?', additional_kwargs={}, response_metadata={}),\n",
       " HumanMessage(content='dame detalles dobre el 10', additional_kwargs={}, response_metadata={}),\n",
       " AIMessage(content='Claro, aquí tienes los detalles sobre la verificación número 10:\\n\\n**Título:** Es falso que Evo Morales está habilitado para las elecciones generales 2025  \\n**Categoría:** Falso  \\n**Fecha de publicación:** Sun, 08/03/2025 - 18:35  \\n**Resumen:** En redes sociales circula información que sugiere que Evo Morales está habilitado para participar en las elecciones generales de 2025. Sin embargo, ChequeaBolivia verificó que esta afirmación es falsa.  \\n**Enlace:** [Ver más](https://chequeabolivia.bo/el-comunicado-de-alianza-popular-aclarando-que-andronico-rodriguez-no-es-homosexual-es-falso)  \\n**Tags:** [#EvoMorales](https://chequeabolivia.bo/taxonomy/term/71)\\n\\n¿Quieres que te ayude con alguna otra verificación o tema relacionado?', additional_kwargs={}, response_metadata={}),\n",
       " HumanMessage(content='dame mas detalles de esa verificación', additional_kwargs={}, response_metadata={}),\n",
       " AIMessage(content='La verificación sobre si Evo Morales está habilitado para las elecciones generales 2025 indica que la información que circula en redes sociales y otros medios es falsa. ChequeaBolivia realizó una revisión y concluyó que Evo Morales no está habilitado como candidato para esas elecciones. La publicación que circula en Facebook y otras plataformas fue desmentida por la autoridad electoral y fuentes oficiales, confirmando que la afirmación es incorrecta.  \\n\\nPara más detalles, puedes consultar la fuente oficial y la verificación completa en el enlace: [Ver más](https://chequeabolivia.bo/el-comunicado-de-alianza-popular-aclarando-que-andronico-rodriguez-no-es-homosexual-es-falso).\\n\\n¿Te gustaría que te proporcione información sobre el proceso de habilitación de candidatos o sobre las fechas clave de las elecciones 2025?', additional_kwargs={}, response_metadata={})]"
      ]
     },
     "execution_count": 10,
     "metadata": {},
     "output_type": "execute_result"
    }
   ],
   "source": [
    "history.messages"
   ]
  }
 ],
 "metadata": {
  "kernelspec": {
   "display_name": ".venv",
   "language": "python",
   "name": "python3"
  },
  "language_info": {
   "codemirror_mode": {
    "name": "ipython",
    "version": 3
   },
   "file_extension": ".py",
   "mimetype": "text/x-python",
   "name": "python",
   "nbconvert_exporter": "python",
   "pygments_lexer": "ipython3",
   "version": "3.12.10"
  }
 },
 "nbformat": 4,
 "nbformat_minor": 5
}
