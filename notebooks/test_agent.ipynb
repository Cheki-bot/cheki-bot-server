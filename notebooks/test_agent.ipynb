{
 "cells": [
  {
   "cell_type": "code",
   "execution_count": 2,
   "id": "ed42865f",
   "metadata": {},
   "outputs": [],
   "source": [
    "import sys\n",
    "\n",
    "sys.path.append(\"..\")"
   ]
  },
  {
   "cell_type": "code",
   "execution_count": 3,
   "id": "8a0a1210",
   "metadata": {},
   "outputs": [],
   "source": [
    "import os\n",
    "from src.api.deps import get_agent\n",
    "from src import ENV\n",
    "from langchain_chroma import Chroma\n",
    "from langchain_openai import OpenAIEmbeddings\n",
    "from langchain_core.chat_history import InMemoryChatMessageHistory\n",
    "from IPython.display import display, Markdown\n",
    "from langchain_core.messages import AIMessage, HumanMessage\n"
   ]
  },
  {
   "cell_type": "code",
   "execution_count": 4,
   "id": "1e2e5308",
   "metadata": {},
   "outputs": [],
   "source": [
    "agent = get_agent()  # type: ignore"
   ]
  },
  {
   "cell_type": "code",
   "execution_count": 5,
   "id": "72f90714",
   "metadata": {},
   "outputs": [],
   "source": [
    "history = []\n",
    "query = \"\"\n",
    "result = \"\""
   ]
  },
  {
   "cell_type": "code",
   "execution_count": 7,
   "id": "51be3c0b",
   "metadata": {},
   "outputs": [
    {
     "name": "stderr",
     "output_type": "stream",
     "text": [
      "/home/willypaz/Workspace/working/checkibot/backend/.venv/lib/python3.12/site-packages/langchain_core/vectorstores/base.py:1083: UserWarning: Relevance scores must be between 0 and 1, got [(Document(id='8937f62a-fce9-4d1f-96b6-c30020b10661', metadata={'answer': 'Las y los bolivianos elegiremos a las siguientes autoridades: presidente del Estado Plurinacional de Bolivia; vicepresidenta o vicepresidente; 36 senadoras y senadores (4por departamento); 130 diputadas y diputados (60 plurinominales, 63 uninominales y 7 de circunscripciones especiales indígena originario campesinas); 9 representantes ante organismos parlamentarios supraestatales (1 por departamento), incluidos en las listas de presidente y vicepresidente.', 'type': 'questions_and_answers'}, page_content='¿qué elegiremos?'), 0.053924128091958345), (Document(id='606daf30-c146-490a-a4c7-3aa7e320c6dd', metadata={'post_category': 'Verdadero... pero', 'tags': '[#ConflictoRusia-Ucrania](https://chequeabolivia.bo/taxonomy/term/418)', 'url': 'https://chequeabolivia.bo/miss-ucrania-no-es-militar-sus-fotografias-son-de-practicas-de-airsoft', 'publication_date': 'Wed, 03/02/2022 - 19:52', 'section_url': 'https://chequeabolivia.bo/verdaderapero', 'type': 'verifications', 'title': 'Miss Ucrania no es militar, sus fotografías son de prácticas de airsoft', 'summary': 'En las redes sociales circuló masivamente una fotografía de Anastasiia Lenna, Miss Ucrania 2015, portando un arma, tras la invasión rusa a Ucrania. ChequeaBolivia advierte que la imagen es verdadera, pero.'}, page_content='. “No soy militar, solo una mujer, solo una humana normal. Solo una persona, como todas las personas de mi país. También soy jugador de airsoft desde hace años”, señala parte de su comunicado. [Una publicación compartida de Miss Ukraine??Anastasiia Lenna (@anastasiia.lenna)](https://www.instagram.com/tv/CahaUb4D8SK/?utm_source=ig_embed&utm_campaign=loading) El airsoft es un juego recreativo basado en el cumplimiento de objetivos a través de estrategias para así descontar jugadores del equipo contrario o cumplir con un límite de tiempo requerido'), 0.005118330397434034), (Document(id='e15c4f39-5022-4b5b-a7b0-a2a55a54f6b5', metadata={'summary': 'En redes sociales ([1](https://archive.li/q8HcB),\\xa0[2](https://archive.li/ThRpC)) circula un comunicado atribuido a Alianza Popular en el que se aclara que el candidato presidencial de este movimiento político, Andrónico Rodríguez “no es homosexual”. ChequeaBolivia verificó que es un comunicado falso.', 'tags': '[#AndrónicoRodríguez](https://chequeabolivia.bo/taxonomy/term/144) [#AlianzaPopular](https://chequeabolivia.bo/taxonomy/term/860)', 'section_url': 'https://chequeabolivia.bo/falsa', 'publication_date': 'Sun, 08/03/2025 - 18:35', 'title': 'El comunicado de Alianza Popular aclarando que Andrónico Rodríguez “no es homosexual” es falso', 'type': 'verifications', 'url': 'https://chequeabolivia.bo/el-comunicado-de-alianza-popular-aclarando-que-andronico-rodriguez-no-es-homosexual-es-falso', 'post_category': 'Falso'}, page_content='x2wurpw46giQ&lsessionid=tlVqOdPmQt_53mg0LEQndArY2l7P2u9gbp53LFXIzr0Z3qrCW_RgAA&lns_surface=26&authuser=0&biw=1242&bih=516&hl=es-419&vsrid=CKqb6eS3jbTF'), -0.023664173919140552)]\n",
      "  self.vectorstore.similarity_search_with_relevance_scores(\n",
      "No relevant docs were retrieved using the relevance score threshold 0.1\n",
      "No relevant docs were retrieved using the relevance score threshold 0.1\n",
      "/home/willypaz/Workspace/working/checkibot/backend/.venv/lib/python3.12/site-packages/langchain_core/vectorstores/base.py:1083: UserWarning: Relevance scores must be between 0 and 1, got [(Document(id='4a354c13-a126-45b9-a83d-b557551bcde5', metadata={'tags': '[#IncendiosenBolivia](https://chequeabolivia.bo/taxonomy/term/654) [#GretaThunberg](https://chequeabolivia.bo/taxonomy/term/774)', 'post_category': 'Verdadero', 'section_url': 'https://chequeabolivia.bo/verdadera', 'url': 'https://chequeabolivia.bo/la-foto-que-muestra-greta-thunberg-con-el-letrero-desastre-natural-sos-bolivia-es-real', 'summary': 'En [Instagram se comparte](https://www.evernote.com/shard/s596/u/0/sh/cf70faa4-272e-4929-8220-54cf1f3aa7f8/U8T0eWYTEVNmz7tDlySUwKBlPgM63I_6hENntfNp7QT2zS0gaV_vMzCMxA) una fotografía de la activista climática, Greta Thunberg, sosteniendo un letrero que señala: “Desastre Nacional SOS Bolivia”. ChequeaBolivia verificó que la fotografía es verdadera.', 'title': 'La foto que muestra a Greta Thunberg con el letrero “desastre natural SOS Bolivia” es real', 'type': 'verifications', 'publication_date': 'Wed, 09/18/2024 - 18:50'}, page_content='. Fuentes: [Cuenta de Instagram Rebelión o Extinción Bolivia](https://www.instagram.com/p/C_8V9hXpN9I/) Serena Edling Viza, integrante de [Fridays For Future](https://fridaysforfuture.org/what-we-do/who-we-are/) Publicaciones de Thunberg en [X](https://x.com/GretaThunberg/status/1834534709843362254/photo/1) e [Instagram](https://www.instagram.com/p/C_2iVBSOUmJ/) [Fundación'), -0.021875461668338314), (Document(id='606daf30-c146-490a-a4c7-3aa7e320c6dd', metadata={'title': 'Miss Ucrania no es militar, sus fotografías son de prácticas de airsoft', 'summary': 'En las redes sociales circuló masivamente una fotografía de Anastasiia Lenna, Miss Ucrania 2015, portando un arma, tras la invasión rusa a Ucrania. ChequeaBolivia advierte que la imagen es verdadera, pero.', 'publication_date': 'Wed, 03/02/2022 - 19:52', 'tags': '[#ConflictoRusia-Ucrania](https://chequeabolivia.bo/taxonomy/term/418)', 'section_url': 'https://chequeabolivia.bo/verdaderapero', 'type': 'verifications', 'post_category': 'Verdadero... pero', 'url': 'https://chequeabolivia.bo/miss-ucrania-no-es-militar-sus-fotografias-son-de-practicas-de-airsoft'}, page_content='. “No soy militar, solo una mujer, solo una humana normal. Solo una persona, como todas las personas de mi país. También soy jugador de airsoft desde hace años”, señala parte de su comunicado. [Una publicación compartida de Miss Ukraine??Anastasiia Lenna (@anastasiia.lenna)](https://www.instagram.com/tv/CahaUb4D8SK/?utm_source=ig_embed&utm_campaign=loading) El airsoft es un juego recreativo basado en el cumplimiento de objetivos a través de estrategias para así descontar jugadores del equipo contrario o cumplir con un límite de tiempo requerido'), -0.027899426432303365), (Document(id='e8ac68aa-fba3-4e7f-a719-84f68f4aa6ab', metadata={'tags': '[#EvoMorales](https://chequeabolivia.bo/taxonomy/term/71) [#FraudeElectoral](https://chequeabolivia.bo/taxonomy/term/86)', 'type': 'verifications', 'post_category': 'Verdadero', 'summary': '', 'publication_date': 'Fri, 06/28/2019 - 17:55', 'title': 'Acusada de traslado de votantes es hermana de modelo militante del MAS', 'section_url': 'https://chequeabolivia.bo/verdadera', 'url': 'https://chequeabolivia.bo/acusada-de-traslado-de-votantes-es-hermana-de-modelo-militante-del-mas'}, page_content='. FUENTE: Vocal del Tribunal Electoral Departamental (TED) de Pando, Priscila Segovia. Cuenta personal de Facebook de Miuki Nakashima Brito Miuki Nakashima Brito (no respondió) Lucía Nakashima Salazar (no respondió)'), -0.03406095850980795)]\n",
      "  self.vectorstore.similarity_search_with_relevance_scores(\n",
      "No relevant docs were retrieved using the relevance score threshold 0.1\n"
     ]
    },
    {
     "name": "stdout",
     "output_type": "stream",
     "text": [
      "type \n"
     ]
    },
    {
     "data": {
      "text/markdown": [
       "¡Hola! Soy Checki-bot, un asistente virtual diseñado para brindarte información sobre las elecciones bolivianas de 2025. Estoy aquí para ayudarte con cualquier duda que tengas sobre este proceso electoral."
      ],
      "text/plain": [
       "<IPython.core.display.Markdown object>"
      ]
     },
     "metadata": {},
     "output_type": "display_data"
    }
   ],
   "source": [
    "if query and result:\n",
    "    history.extend([HumanMessage(query), AIMessage(result)])\n",
    "query = \"que eres?\"\n",
    "result = \"\"\n",
    "async for token in agent.stream(query, history):\n",
    "    result += token\n",
    "    # display(Markdown(result), clear=True)\n",
    "display(Markdown(result), clear=False)"
   ]
  },
  {
   "cell_type": "code",
   "execution_count": 1,
   "id": "6b905a9a",
   "metadata": {},
   "outputs": [],
   "source": [
    "%rm -rf chroma_db\n",
    "%cp -r ../chroma_db .\n"
   ]
  }
 ],
 "metadata": {
  "kernelspec": {
   "display_name": ".venv",
   "language": "python",
   "name": "python3"
  },
  "language_info": {
   "codemirror_mode": {
    "name": "ipython",
    "version": 3
   },
   "file_extension": ".py",
   "mimetype": "text/x-python",
   "name": "python",
   "nbconvert_exporter": "python",
   "pygments_lexer": "ipython3",
   "version": "3.12.10"
  }
 },
 "nbformat": 4,
 "nbformat_minor": 5
}
